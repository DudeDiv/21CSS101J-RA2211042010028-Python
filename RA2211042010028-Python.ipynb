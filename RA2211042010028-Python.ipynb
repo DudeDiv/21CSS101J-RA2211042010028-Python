{
  "nbformat": 4,
  "nbformat_minor": 0,
  "metadata": {
    "colab": {
      "provenance": [],
      "authorship_tag": "ABX9TyOWYsnI8gy7ourHV9McJc0t",
      "include_colab_link": true
    },
    "kernelspec": {
      "name": "python3",
      "display_name": "Python 3"
    },
    "language_info": {
      "name": "python"
    }
  },
  "cells": [
    {
      "cell_type": "markdown",
      "metadata": {
        "id": "view-in-github",
        "colab_type": "text"
      },
      "source": [
        "<a href=\"https://colab.research.google.com/github/DudeDiv/21CSS101J-RA2211042010028-Python/blob/main/RA2211042010028.ipynb\" target=\"_parent\"><img src=\"https://colab.research.google.com/assets/colab-badge.svg\" alt=\"Open In Colab\"/></a>"
      ]
    },
    {
      "cell_type": "markdown",
      "source": [
        "1. Simple print in Python"
      ],
      "metadata": {
        "id": "pL3hDd6gNe6t"
      }
    },
    {
      "cell_type": "code",
      "source": [
        "print(\"Hello Python!\")"
      ],
      "metadata": {
        "colab": {
          "base_uri": "https://localhost:8080/"
        },
        "id": "nfpbLO2lJNoS",
        "outputId": "5d4463e5-cd21-4e4d-a6b7-e8f8af9d8824"
      },
      "execution_count": null,
      "outputs": [
        {
          "output_type": "stream",
          "name": "stdout",
          "text": [
            "Hello Python!\n"
          ]
        }
      ]
    },
    {
      "cell_type": "markdown",
      "source": [
        "2. Seconds in an hour"
      ],
      "metadata": {
        "id": "HeEHpGNtNibr"
      }
    },
    {
      "cell_type": "code",
      "source": [
        "seconds_in_an_hour = 60 * 60\n",
        "seconds_in_an_hour"
      ],
      "metadata": {
        "colab": {
          "base_uri": "https://localhost:8080/"
        },
        "id": "tw4xdmvDK6ik",
        "outputId": "556e568a-137d-40f6-fe4f-a41df362e71d"
      },
      "execution_count": 1,
      "outputs": [
        {
          "output_type": "execute_result",
          "data": {
            "text/plain": [
              "3600"
            ]
          },
          "metadata": {},
          "execution_count": 1
        }
      ]
    },
    {
      "cell_type": "markdown",
      "source": [
        "3. Comment in Python"
      ],
      "metadata": {
        "id": "ua2bWg__Nmt8"
      }
    },
    {
      "cell_type": "code",
      "source": [
        "#This is a comment da."
      ],
      "metadata": {
        "id": "HA7dvndQNqqt"
      },
      "execution_count": 2,
      "outputs": []
    },
    {
      "cell_type": "markdown",
      "source": [
        "4. Indentation in Python"
      ],
      "metadata": {
        "id": "VEtBf1coNwEy"
      }
    },
    {
      "cell_type": "code",
      "source": [
        "if (5>2):\n",
        " print(\"Hello 5!\")"
      ],
      "metadata": {
        "id": "NAAXUbsvNvYn",
        "outputId": "98f402a9-6b80-4fa5-9a14-423ae57fded7",
        "colab": {
          "base_uri": "https://localhost:8080/"
        }
      },
      "execution_count": 4,
      "outputs": [
        {
          "output_type": "stream",
          "name": "stdout",
          "text": [
            "Hello 5!\n"
          ]
        }
      ]
    },
    {
      "cell_type": "markdown",
      "source": [
        "5. Variables in Python"
      ],
      "metadata": {
        "id": "sTHZqMmTOCEl"
      }
    },
    {
      "cell_type": "code",
      "source": [
        "x=5\n",
        "y=\"Hello Bye\"\n",
        "print(x)\n",
        "print(y)\n",
        "#Don't forget it's case sensitive."
      ],
      "metadata": {
        "id": "9gnq1KrVOYlq",
        "outputId": "be7cd5a1-fb67-47ce-9470-17251a01b172",
        "colab": {
          "base_uri": "https://localhost:8080/"
        }
      },
      "execution_count": 6,
      "outputs": [
        {
          "output_type": "stream",
          "name": "stdout",
          "text": [
            "5\n",
            "Hello Bye\n"
          ]
        }
      ]
    },
    {
      "cell_type": "markdown",
      "source": [
        "6. Since Python will ignore string literals that are not assigned to a variable, you can add a multiline string (triple quotes) in your code, and place your comment inside it:\n",
        "\n"
      ],
      "metadata": {
        "id": "ojj3fjMhO2WK"
      }
    },
    {
      "cell_type": "code",
      "source": [
        "\"\"\"\n",
        "So this is how\n",
        "you'll add a \n",
        "multiline comment.\n",
        "\"\"\"\n",
        "print(\"Hi Comment\")"
      ],
      "metadata": {
        "id": "UYbEIoOGPHYK",
        "outputId": "b855309e-78c5-41f7-d214-bb23a9856fde",
        "colab": {
          "base_uri": "https://localhost:8080/"
        }
      },
      "execution_count": 7,
      "outputs": [
        {
          "output_type": "stream",
          "name": "stdout",
          "text": [
            "Hi Comment\n"
          ]
        }
      ]
    },
    {
      "cell_type": "markdown",
      "source": [
        "7. To specify the data type to a variable, casting can be used."
      ],
      "metadata": {
        "id": "EC30lvQdPZJw"
      }
    },
    {
      "cell_type": "code",
      "source": [
        "x = str(3)\n",
        "y = int(3)\n",
        "z = float(3)\n",
        "print(x, y, z)\n",
        "print(x)\n",
        "print(y)\n",
        "print(z)"
      ],
      "metadata": {
        "id": "P2I64-CiPZd9",
        "outputId": "87ff1dce-3edc-4c4b-f14d-0f2446ac1f0e",
        "colab": {
          "base_uri": "https://localhost:8080/"
        }
      },
      "execution_count": 14,
      "outputs": [
        {
          "output_type": "stream",
          "name": "stdout",
          "text": [
            "3 3 3.0\n",
            "3\n",
            "3\n",
            "3.0\n"
          ]
        }
      ]
    },
    {
      "cell_type": "markdown",
      "source": [
        "8. We can get he data type with **type()** function."
      ],
      "metadata": {
        "id": "odkEUScWQPJe"
      }
    },
    {
      "cell_type": "code",
      "source": [
        "x = 10\n",
        "y = \"Shubu\"\n",
        "print(type(x)) #integer type\n",
        "print(type(y)) #string type"
      ],
      "metadata": {
        "id": "XUhmHNZ9QQA4",
        "outputId": "18a41f49-57a2-45b3-d4b8-73ee5778e043",
        "colab": {
          "base_uri": "https://localhost:8080/"
        }
      },
      "execution_count": 17,
      "outputs": [
        {
          "output_type": "stream",
          "name": "stdout",
          "text": [
            "<class 'int'>\n",
            "<class 'str'>\n"
          ]
        }
      ]
    },
    {
      "cell_type": "markdown",
      "source": [
        "9. Single or Double quotes?\n",
        "--> In Python, Strings can be declared by either single or double quotes."
      ],
      "metadata": {
        "id": "aAvKZLlcQ08B"
      }
    },
    {
      "cell_type": "code",
      "source": [
        "x = \"Shubu\"\n",
        "#is same as\n",
        "x = 'Shubu'\n",
        "print(x)"
      ],
      "metadata": {
        "id": "mR4dUnieQ1e9",
        "outputId": "f77c48a2-0853-4513-e588-817d3127e0d5",
        "colab": {
          "base_uri": "https://localhost:8080/"
        }
      },
      "execution_count": 18,
      "outputs": [
        {
          "output_type": "stream",
          "name": "stdout",
          "text": [
            "Shubu\n"
          ]
        }
      ]
    },
    {
      "cell_type": "markdown",
      "source": [
        "10. Legal variable names in Python"
      ],
      "metadata": {
        "id": "K5oZUa4ORZEV"
      }
    },
    {
      "cell_type": "code",
      "source": [
        "mycar = \"Ford\"\n",
        "Mycar = \"Ford\"\n",
        "myCar = \"Ford\"\n",
        "_mycar = \"Ford\"\n",
        "_my_car = \"Ford\"\n",
        "MYCAR = \"Ford\"\n",
        "MY2Car = \"Ford\"\n",
        "\"\"\"\n",
        "These are the errors in/illegal variable names :\n",
        "2mycar = \"Ford\"\n",
        "my Car = \"Ford\"\n",
        "my-car = \"Ford\"\n",
        "\"\"\""
      ],
      "metadata": {
        "id": "H5C0Aai6RZXe",
        "outputId": "b8b33323-2c7d-48f6-ff3a-341ea65fff40",
        "colab": {
          "base_uri": "https://localhost:8080/",
          "height": 35
        }
      },
      "execution_count": 21,
      "outputs": [
        {
          "output_type": "execute_result",
          "data": {
            "text/plain": [
              "'\\nThese are the errors in/illegal variable names :\\n2mycar = \"Ford\"\\nmy Car = \"Ford\"\\nmy-car = \"Ford\"\\n'"
            ],
            "application/vnd.google.colaboratory.intrinsic+json": {
              "type": "string"
            }
          },
          "metadata": {},
          "execution_count": 21
        }
      ]
    },
    {
      "cell_type": "markdown",
      "source": [],
      "metadata": {
        "id": "taHW20guT_bR"
      }
    },
    {
      "cell_type": "code",
      "source": [],
      "metadata": {
        "id": "hTjjJ3olT_tg"
      },
      "execution_count": null,
      "outputs": []
    }
  ]
}
