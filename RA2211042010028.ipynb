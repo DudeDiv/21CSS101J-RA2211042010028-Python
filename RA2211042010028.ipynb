{
  "nbformat": 4,
  "nbformat_minor": 0,
  "metadata": {
    "colab": {
      "provenance": [],
      "authorship_tag": "ABX9TyOHfqNamn/K+tuG2e8xWlx3",
      "include_colab_link": true
    },
    "kernelspec": {
      "name": "python3",
      "display_name": "Python 3"
    },
    "language_info": {
      "name": "python"
    }
  },
  "cells": [
    {
      "cell_type": "markdown",
      "metadata": {
        "id": "view-in-github",
        "colab_type": "text"
      },
      "source": [
        "<a href=\"https://colab.research.google.com/github/DudeDiv/21CSS101J-RA2211042010028-Python/blob/main/RA2211042010028.ipynb\" target=\"_parent\"><img src=\"https://colab.research.google.com/assets/colab-badge.svg\" alt=\"Open In Colab\"/></a>"
      ]
    },
    {
      "cell_type": "code",
      "source": [
        "print(\"Hello Python!\")"
      ],
      "metadata": {
        "colab": {
          "base_uri": "https://localhost:8080/"
        },
        "id": "nfpbLO2lJNoS",
        "outputId": "5d4463e5-cd21-4e4d-a6b7-e8f8af9d8824"
      },
      "execution_count": null,
      "outputs": [
        {
          "output_type": "stream",
          "name": "stdout",
          "text": [
            "Hello Python!\n"
          ]
        }
      ]
    },
    {
      "cell_type": "code",
      "source": [
        "seconds_in_an_hour = 60 * 60\n",
        "seconds_in_an_hour"
      ],
      "metadata": {
        "id": "tw4xdmvDK6ik",
        "outputId": "556e568a-137d-40f6-fe4f-a41df362e71d",
        "colab": {
          "base_uri": "https://localhost:8080/"
        }
      },
      "execution_count": 1,
      "outputs": [
        {
          "output_type": "execute_result",
          "data": {
            "text/plain": [
              "3600"
            ]
          },
          "metadata": {},
          "execution_count": 1
        }
      ]
    }
  ]
}